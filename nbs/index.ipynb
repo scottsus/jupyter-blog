{
 "cells": [
  {
   "cell_type": "markdown",
   "metadata": {},
   "source": [
    "# jupyter-blog 🪐\n",
    "\n",
    "> Blog with Jupyter notebooks"
   ]
  },
  {
   "cell_type": "markdown",
   "metadata": {},
   "source": [
    "## Documentation\n",
    "\n",
    "There are lots of features that `nbdev` provides, including exports, modules, and more, but we're just using this as our blog to render `ipynb` files, so we're ignoring those.\n",
    "\n",
    "For more information visit [https://nbdev.fast.ai/tutorials/tutorial.html](https://nbdev.fast.ai/tutorials/tutorial.html)"
   ]
  },
  {
   "cell_type": "markdown",
   "metadata": {},
   "source": [
    "## Quick Start\n",
    "\n",
    "To make changes, edit the files inside `/nbs`, then\n",
    "\n",
    "```\n",
    "nbdev_preview\n",
    "nbdev_export\n",
    "```"
   ]
  }
 ],
 "metadata": {
  "kernelspec": {
   "display_name": "Python 3 (ipykernel)",
   "language": "python",
   "name": "python3"
  },
  "language_info": {
   "codemirror_mode": {
    "name": "ipython",
    "version": 3
   },
   "file_extension": ".py",
   "mimetype": "text/x-python",
   "name": "python",
   "nbconvert_exporter": "python",
   "pygments_lexer": "ipython3",
   "version": "3.10.15"
  }
 },
 "nbformat": 4,
 "nbformat_minor": 4
}
